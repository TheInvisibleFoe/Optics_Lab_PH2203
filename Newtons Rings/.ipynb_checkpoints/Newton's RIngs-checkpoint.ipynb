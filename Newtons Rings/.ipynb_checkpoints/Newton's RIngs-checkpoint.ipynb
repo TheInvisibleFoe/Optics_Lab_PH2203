{
 "cells": [
  {
   "cell_type": "markdown",
   "id": "475bdbe8",
   "metadata": {},
   "source": [
    "# Newton's Rings"
   ]
  },
  {
   "cell_type": "code",
   "execution_count": 1,
   "id": "887d6d76",
   "metadata": {},
   "outputs": [],
   "source": [
    "import numpy as np\n",
    "import pandas as pd"
   ]
  },
  {
   "cell_type": "code",
   "execution_count": 12,
   "id": "883d510c",
   "metadata": {},
   "outputs": [],
   "source": [
    "wavelength = 589.3 * 10**(-9)\n",
    "def Radius(r2,r1):\n",
    "    return (r2**2 - r1**2)/(4*wavelength)"
   ]
  },
  {
   "cell_type": "code",
   "execution_count": 21,
   "id": "a8681659",
   "metadata": {},
   "outputs": [
    {
     "data": {
      "text/plain": [
       "1.1350330901069063"
      ]
     },
     "execution_count": 21,
     "metadata": {},
     "output_type": "execute_result"
    }
   ],
   "source": [
    "reading = pd.read_csv(\"Newton's rings - Sheet1.csv\",usecols= [3,8],header = 0).dropna()\n",
    "k = reading.keys()\n",
    "read1 = np.array(reading[k[0]])\n",
    "read2 = np.array(reading[k[1]])\n",
    "\n",
    "diameter = abs(read2-read1)\n",
    "\n",
    "R_c = [Radius(diameter[i],diameter[i+1]) for i in range(0,20,2)]\n",
    "R_avg = np.average(R_c)\n",
    "R_avg"
   ]
  },
  {
   "cell_type": "code",
   "execution_count": 23,
   "id": "f39aec8f",
   "metadata": {},
   "outputs": [
    {
     "data": {
      "text/plain": [
       "0.005456923939450595"
      ]
     },
     "execution_count": 23,
     "metadata": {},
     "output_type": "execute_result"
    }
   ],
   "source": [
    "del_D = (0.5/50)*10**(-3)\n",
    "l = np.array([del_D * (diameter[i] - diameter[i+1]) / (2 * wavelength) for i in range(0,20,2)])\n",
    "maxerr = max(l)\n",
    "maxerr/R_avg"
   ]
  },
  {
   "cell_type": "markdown",
   "id": "1b344c62",
   "metadata": {},
   "source": [
    " The Radius of Curvature of the lens is $R~=~~1.1350330901069063$\n",
    " \n",
    " The maximum permissible error is  $\\delta R ~=~~ 0.005456923939450595$"
   ]
  },
  {
   "cell_type": "code",
   "execution_count": null,
   "id": "7cb893b0",
   "metadata": {},
   "outputs": [],
   "source": []
  }
 ],
 "metadata": {
  "kernelspec": {
   "display_name": "Python 3 (ipykernel)",
   "language": "python",
   "name": "python3"
  },
  "language_info": {
   "codemirror_mode": {
    "name": "ipython",
    "version": 3
   },
   "file_extension": ".py",
   "mimetype": "text/x-python",
   "name": "python",
   "nbconvert_exporter": "python",
   "pygments_lexer": "ipython3",
   "version": "3.11.4"
  }
 },
 "nbformat": 4,
 "nbformat_minor": 5
}
